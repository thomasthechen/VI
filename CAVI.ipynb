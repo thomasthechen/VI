{
 "cells": [
  {
   "cell_type": "code",
   "execution_count": 1,
   "metadata": {},
   "outputs": [],
   "source": [
    "import numpy as np\n",
    "import pandas as pd\n",
    "import matplotlib.pyplot as plt\n",
    "from scipy.stats import norm"
   ]
  },
  {
   "cell_type": "code",
   "execution_count": 128,
   "metadata": {},
   "outputs": [
    {
     "data": {
      "text/plain": [
       "(200, 1)"
      ]
     },
     "execution_count": 128,
     "metadata": {},
     "output_type": "execute_result"
    }
   ],
   "source": [
    "#1D data generation\n",
    "mu_1 = 7\n",
    "sigma_1 = 2\n",
    "X1 = np.random.normal(mu_1, sigma_1, 100)\n",
    "\n",
    "mu_2 = -1\n",
    "sigma_2 = 1\n",
    "X2 = np.random.normal(mu_2, sigma_2, 100)\n",
    "\n",
    "X = np.append(X1, X2)\n",
    "X = np.array([X]).T\n",
    "X.shape"
   ]
  },
  {
   "cell_type": "code",
   "execution_count": 129,
   "metadata": {},
   "outputs": [
    {
     "data": {
      "text/plain": [
       "<matplotlib.collections.PathCollection at 0x7fd7a14eb790>"
      ]
     },
     "execution_count": 129,
     "metadata": {},
     "output_type": "execute_result"
    },
    {
     "data": {
      "image/png": "[encoded data removed]",
      "text/plain": [
       "<Figure size 432x288 with 1 Axes>"
      ]
     },
     "metadata": {
      "needs_background": "light"
     },
     "output_type": "display_data"
    }
   ],
   "source": [
    "plt.scatter(X, np.ones(200))"
   ]
  },
  {
   "cell_type": "code",
   "execution_count": 130,
   "metadata": {},
   "outputs": [],
   "source": [
    "n = len(X)\n",
    "k = 2\n",
    "s = 1 # sigma\n",
    "mew = np.random.normal(size=(k,1))\n",
    "sig = np.random.normal(size=(k,1))\n",
    "c = np.sign(np.random.normal(size=(n,1)))\n",
    "phi = np.random.normal(size=(n,k))\n",
    "phi = phi/np.sum(phi, axis=1)[:, None]\n",
    "\n",
    "\n"
   ]
  },
  {
   "cell_type": "code",
   "execution_count": 131,
   "metadata": {},
   "outputs": [],
   "source": [
    "def elbo(mew, sig, phi, X):\n",
    "    log_var = np.log(2 * np.pi * sig)\n",
    "    neg_kl_mu = 0.5 * np.sum(log_var) - k/2 * np.log(2*np.pi * s**2)\n",
    "    \n",
    "    phi_entropy = -np.multiply(phi, np.log(phi))\n",
    "    neg_kl_phi = -n * np.log(k) + np.sum(phi_entropy)\n",
    "    \n",
    "    mu_x = X @ mew.T\n",
    "    mu_sq = 0.5 * (np.multiply(mew, mew) + np.multiply(sig, sig))\n",
    "    conditional = np.sum(np.multiply(phi, mu_x - mu_sq.T))\n",
    "    \n",
    "    return conditional + neg_kl_phi + neg_kl_mu"
   ]
  },
  {
   "cell_type": "code",
   "execution_count": 132,
   "metadata": {},
   "outputs": [],
   "source": [
    "NUM_IT = 200"
   ]
  },
  {
   "cell_type": "code",
   "execution_count": 133,
   "metadata": {},
   "outputs": [
    {
     "name": "stdout",
     "output_type": "stream",
     "text": [
      "738.819010262171\n",
      "2182.493648105488\n",
      "2230.2871115705507\n",
      "2230.482726715458\n",
      "2230.4850479964266\n",
      "2230.4851479036574\n",
      "2230.4851527474766\n",
      "2230.4851529837656\n",
      "2230.4851529952953\n",
      "2230.4851529958587\n",
      "2230.4851529958864\n",
      "2230.4851529958873\n",
      "2230.485152995888\n",
      "2230.485152995888\n",
      "2230.485152995888\n",
      "2230.485152995888\n",
      "2230.485152995888\n",
      "2230.485152995888\n",
      "2230.485152995888\n",
      "2230.485152995888\n",
      "2230.485152995888\n",
      "2230.485152995888\n",
      "2230.485152995888\n",
      "2230.485152995888\n",
      "2230.485152995888\n",
      "2230.485152995888\n",
      "2230.485152995888\n",
      "2230.485152995888\n",
      "2230.485152995888\n",
      "2230.485152995888\n",
      "2230.485152995888\n",
      "2230.485152995888\n",
      "2230.485152995888\n",
      "2230.485152995888\n",
      "2230.485152995888\n",
      "2230.485152995888\n",
      "2230.485152995888\n",
      "2230.485152995888\n",
      "2230.485152995888\n",
      "2230.485152995888\n",
      "2230.485152995888\n",
      "2230.485152995888\n",
      "2230.485152995888\n",
      "2230.485152995888\n",
      "2230.485152995888\n",
      "2230.485152995888\n",
      "2230.485152995888\n",
      "2230.485152995888\n",
      "2230.485152995888\n",
      "2230.485152995888\n",
      "2230.485152995888\n",
      "2230.485152995888\n",
      "2230.485152995888\n",
      "2230.485152995888\n",
      "2230.485152995888\n",
      "2230.485152995888\n",
      "2230.485152995888\n",
      "2230.485152995888\n",
      "2230.485152995888\n",
      "2230.485152995888\n",
      "2230.485152995888\n",
      "2230.485152995888\n",
      "2230.485152995888\n",
      "2230.485152995888\n",
      "2230.485152995888\n",
      "2230.485152995888\n",
      "2230.485152995888\n",
      "2230.485152995888\n",
      "2230.485152995888\n",
      "2230.485152995888\n",
      "2230.485152995888\n",
      "2230.485152995888\n",
      "2230.485152995888\n",
      "2230.485152995888\n",
      "2230.485152995888\n",
      "2230.485152995888\n",
      "2230.485152995888\n",
      "2230.485152995888\n",
      "2230.485152995888\n",
      "2230.485152995888\n",
      "2230.485152995888\n",
      "2230.485152995888\n",
      "2230.485152995888\n",
      "2230.485152995888\n",
      "2230.485152995888\n",
      "2230.485152995888\n",
      "2230.485152995888\n",
      "2230.485152995888\n",
      "2230.485152995888\n",
      "2230.485152995888\n",
      "2230.485152995888\n",
      "2230.485152995888\n",
      "2230.485152995888\n",
      "2230.485152995888\n",
      "2230.485152995888\n",
      "2230.485152995888\n",
      "2230.485152995888\n",
      "2230.485152995888\n",
      "2230.485152995888\n",
      "2230.485152995888\n",
      "2230.485152995888\n",
      "2230.485152995888\n",
      "2230.485152995888\n",
      "2230.485152995888\n",
      "2230.485152995888\n",
      "2230.485152995888\n",
      "2230.485152995888\n",
      "2230.485152995888\n",
      "2230.485152995888\n",
      "2230.485152995888\n",
      "2230.485152995888\n",
      "2230.485152995888\n",
      "2230.485152995888\n",
      "2230.485152995888\n",
      "2230.485152995888\n",
      "2230.485152995888\n",
      "2230.485152995888\n",
      "2230.485152995888\n",
      "2230.485152995888\n",
      "2230.485152995888\n",
      "2230.485152995888\n",
      "2230.485152995888\n",
      "2230.485152995888\n",
      "2230.485152995888\n",
      "2230.485152995888\n",
      "2230.485152995888\n",
      "2230.485152995888\n",
      "2230.485152995888\n",
      "2230.485152995888\n",
      "2230.485152995888\n",
      "2230.485152995888\n",
      "2230.485152995888\n",
      "2230.485152995888\n",
      "2230.485152995888\n",
      "2230.485152995888\n",
      "2230.485152995888\n",
      "2230.485152995888\n",
      "2230.485152995888\n",
      "2230.485152995888\n",
      "2230.485152995888\n",
      "2230.485152995888\n",
      "2230.485152995888\n",
      "2230.485152995888\n",
      "2230.485152995888\n",
      "2230.485152995888\n",
      "2230.485152995888\n",
      "2230.485152995888\n",
      "2230.485152995888\n",
      "2230.485152995888\n",
      "2230.485152995888\n",
      "2230.485152995888\n",
      "2230.485152995888\n",
      "2230.485152995888\n",
      "2230.485152995888\n",
      "2230.485152995888\n",
      "2230.485152995888\n",
      "2230.485152995888\n",
      "2230.485152995888\n",
      "2230.485152995888\n",
      "2230.485152995888\n",
      "2230.485152995888\n",
      "2230.485152995888\n",
      "2230.485152995888\n",
      "2230.485152995888\n",
      "2230.485152995888\n",
      "2230.485152995888\n",
      "2230.485152995888\n",
      "2230.485152995888\n",
      "2230.485152995888\n",
      "2230.485152995888\n",
      "2230.485152995888\n",
      "2230.485152995888\n",
      "2230.485152995888\n",
      "2230.485152995888\n",
      "2230.485152995888\n",
      "2230.485152995888\n",
      "2230.485152995888\n",
      "2230.485152995888\n",
      "2230.485152995888\n",
      "2230.485152995888\n",
      "2230.485152995888\n",
      "2230.485152995888\n",
      "2230.485152995888\n",
      "2230.485152995888\n",
      "2230.485152995888\n",
      "2230.485152995888\n",
      "2230.485152995888\n",
      "2230.485152995888\n",
      "2230.485152995888\n",
      "2230.485152995888\n",
      "2230.485152995888\n",
      "2230.485152995888\n",
      "2230.485152995888\n",
      "2230.485152995888\n",
      "2230.485152995888\n",
      "2230.485152995888\n",
      "2230.485152995888\n",
      "2230.485152995888\n",
      "2230.485152995888\n",
      "2230.485152995888\n"
     ]
    }
   ],
   "source": [
    "for l in range(NUM_IT):\n",
    "    mu_x = X @ mew.T\n",
    "    mu_sq = 0.5 * (np.multiply(mew, mew) + np.multiply(sig, sig))\n",
    "    phi = np.exp(mu_x - mu_sq.T)\n",
    "    phi = phi/np.sum(phi, axis=1)[:, None]\n",
    "    \n",
    "    for j in range(k):\n",
    "        denom = 1/(s**2) + np.sum(phi[:, j])\n",
    "        mew[j] = (phi[:, j] @ X)/denom\n",
    "        sig[j] = 1/denom\n",
    "    print(elbo(mew, sig, phi, X))\n",
    "    \n",
    "\n",
    "        \n",
    "            "
   ]
  },
  {
   "cell_type": "code",
   "execution_count": 137,
   "metadata": {},
   "outputs": [
    {
     "data": {
      "text/plain": [
       "array([0, 0, 0, 0, 0, 0, 0, 0, 0, 0, 0, 0, 0, 0, 0, 0, 0, 0, 0, 0, 0, 0,\n",
       "       0, 0, 0, 0, 0, 0, 0, 0, 0, 0, 0, 0, 0, 0, 0, 0, 0, 0, 0, 0, 0, 0,\n",
       "       0, 0, 0, 0, 0, 0, 0, 0, 0, 0, 0, 0, 0, 0, 0, 0, 1, 0, 0, 0, 0, 0,\n",
       "       0, 0, 0, 0, 0, 0, 0, 0, 0, 0, 0, 0, 0, 0, 0, 0, 0, 0, 0, 0, 0, 0,\n",
       "       0, 0, 0, 0, 0, 0, 0, 0, 1, 0, 0, 0, 1, 1, 1, 1, 1, 1, 1, 1, 1, 1,\n",
       "       1, 1, 1, 1, 1, 1, 1, 1, 1, 1, 1, 1, 1, 1, 1, 1, 1, 1, 1, 1, 1, 1,\n",
       "       1, 1, 1, 1, 1, 1, 1, 1, 1, 1, 1, 1, 1, 1, 1, 1, 1, 1, 1, 1, 1, 1,\n",
       "       1, 1, 1, 1, 1, 1, 1, 1, 1, 1, 1, 1, 1, 1, 1, 1, 1, 1, 1, 1, 1, 1,\n",
       "       1, 1, 1, 1, 1, 1, 1, 1, 1, 1, 1, 1, 1, 1, 1, 1, 1, 1, 1, 1, 1, 1,\n",
       "       1, 1])"
      ]
     },
     "execution_count": 137,
     "metadata": {},
     "output_type": "execute_result"
    }
   ],
   "source": [
    "np.argmax(phi,axis=1)"
   ]
  },
  {
   "cell_type": "code",
   "execution_count": 138,
   "metadata": {},
   "outputs": [
    {
     "data": {
      "text/plain": [
       "array([[ 6.82265632],\n",
       "       [-0.9712288 ]])"
      ]
     },
     "execution_count": 138,
     "metadata": {},
     "output_type": "execute_result"
    }
   ],
   "source": [
    "mew"
   ]
  }
 ],
 "metadata": {
  "kernelspec": {
   "display_name": "Python 3",
   "language": "python",
   "name": "python3"
  },
  "language_info": {
   "codemirror_mode": {
    "name": "ipython",
    "version": 3
   },
   "file_extension": ".py",
   "mimetype": "text/x-python",
   "name": "python",
   "nbconvert_exporter": "python",
   "pygments_lexer": "ipython3",
   "version": "3.8.3"
  }
 },
 "nbformat": 4,
 "nbformat_minor": 4
}
