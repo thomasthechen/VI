{
 "cells": [
  {
   "cell_type": "code",
   "execution_count": 194,
   "metadata": {},
   "outputs": [],
   "source": [
    "import numpy as np\n",
    "import pandas as pd\n",
    "import matplotlib.pyplot as plt\n",
    "from scipy.stats import norm"
   ]
  },
  {
   "cell_type": "code",
   "execution_count": 195,
   "metadata": {},
   "outputs": [],
   "source": [
    "def elbo(mew, sig, phi, X):\n",
    "    log_var = np.log(2 * np.pi * sig)\n",
    "    neg_kl_mu = 0.5 * np.sum(log_var) - k/2 * np.log(2*np.pi * s**2)\n",
    "    \n",
    "    phi_entropy = -np.multiply(phi, np.log(phi))\n",
    "    neg_kl_phi = -n * np.log(k) + np.sum(phi_entropy)\n",
    "    \n",
    "    mu_x = X @ mew.T\n",
    "    mu_sq = 0.5 * (np.multiply(mew, mew) + np.multiply(sig, sig))\n",
    "    conditional = np.sum(np.multiply(phi, mu_x - mu_sq.T))\n",
    "    \n",
    "    return conditional + neg_kl_phi + neg_kl_mu"
   ]
  },
  {
   "cell_type": "code",
   "execution_count": 196,
   "metadata": {},
   "outputs": [],
   "source": [
    "NUM_IT = 200"
   ]
  },
  {
   "cell_type": "code",
   "execution_count": 197,
   "metadata": {},
   "outputs": [],
   "source": [
    "n = len(X)\n",
    "k = 5\n",
    "s = 1 # sigma\n",
    "mew = np.random.normal(size=(k,1))\n",
    "sig = np.random.normal(size=(k,1))\n",
    "c = np.sign(np.random.normal(size=(n,1)))\n",
    "phi = np.random.normal(size=(n,k))\n",
    "phi = phi/np.sum(phi, axis=1)[:, None]\n",
    "\n",
    "\n"
   ]
  },
  {
   "cell_type": "code",
   "execution_count": 211,
   "metadata": {},
   "outputs": [
    {
     "data": {
      "text/plain": [
       "(406, 1)"
      ]
     },
     "execution_count": 211,
     "metadata": {},
     "output_type": "execute_result"
    }
   ],
   "source": [
    "X = np.array([])\n",
    "mew_s = 12\n",
    "true_centers = np.random.normal(scale=mew_s, size=(k, 1))\n",
    "for i in range(k):\n",
    "    num_pt = int(150 * np.random.rand(1))\n",
    "    cluster_pt = np.random.normal(true_centers[i], s, num_pt)\n",
    "    X = np.append(X, cluster_pt)\n",
    "\n",
    "X = np.array([X]).T\n",
    "X.shape "
   ]
  },
  {
   "cell_type": "code",
   "execution_count": 212,
   "metadata": {},
   "outputs": [
    {
     "data": {
      "text/plain": [
       "(array([ 1.,  2.,  9., 15., 20., 22., 21.,  7.,  5.,  1.,  1.,  0.,  1.,\n",
       "         0.,  3.,  9., 25., 19., 24., 17., 10.,  8.,  8.,  6., 17., 28.,\n",
       "        36., 26., 12., 11.,  2.,  1.,  1.,  3.,  9.,  6., 10.,  8.,  1.,\n",
       "         1.]),\n",
       " array([-7.87577322, -7.35884036, -6.84190751, -6.32497465, -5.80804179,\n",
       "        -5.29110894, -4.77417608, -4.25724322, -3.74031037, -3.22337751,\n",
       "        -2.70644465, -2.1895118 , -1.67257894, -1.15564608, -0.63871323,\n",
       "        -0.12178037,  0.39515249,  0.91208534,  1.4290182 ,  1.94595106,\n",
       "         2.46288391,  2.97981677,  3.49674963,  4.01368248,  4.53061534,\n",
       "         5.0475482 ,  5.56448105,  6.08141391,  6.59834677,  7.11527962,\n",
       "         7.63221248,  8.14914534,  8.66607819,  9.18301105,  9.69994391,\n",
       "        10.21687676, 10.73380962, 11.25074248, 11.76767533, 12.28460819,\n",
       "        12.80154105]),\n",
       " <BarContainer object of 40 artists>)"
      ]
     },
     "execution_count": 212,
     "metadata": {},
     "output_type": "execute_result"
    },
    {
     "data": {
      "image/png": "[encoded data removed]",
      "text/plain": [
       "<Figure size 432x288 with 1 Axes>"
      ]
     },
     "metadata": {
      "needs_background": "light"
     },
     "output_type": "display_data"
    }
   ],
   "source": [
    "plt.hist(X,bins=40)"
   ]
  },
  {
   "cell_type": "code",
   "execution_count": 213,
   "metadata": {},
   "outputs": [
    {
     "name": "stdout",
     "output_type": "stream",
     "text": [
      "2954.2728116399176\n",
      "5085.983077991005\n",
      "5096.716253656286\n",
      "5103.842071501374\n",
      "5112.670336788877\n",
      "5122.7779809406675\n",
      "5132.392716814895\n",
      "5139.481409264549\n",
      "5143.353578000911\n",
      "5144.840510638128\n",
      "5145.1872849845995\n",
      "5145.170690978311\n",
      "5145.0922710644245\n",
      "5145.03013018677\n",
      "5144.991846035009\n",
      "5144.970387206242\n",
      "5144.958862513766\n",
      "5144.952799998948\n",
      "5144.94964371412\n",
      "5144.948009097108\n",
      "5144.947164813084\n",
      "5144.946729339059\n",
      "5144.946504884671\n",
      "5144.94638923737\n",
      "5144.946329662779\n",
      "5144.946298976606\n",
      "5144.946283171697\n",
      "5144.946275032774\n",
      "5144.946270845138\n",
      "5144.946268701126\n",
      "5144.94626763516\n",
      "5144.946267200678\n",
      "5144.94626731957\n",
      "5144.946268406047\n",
      "5144.946272033369\n",
      "5144.94628308224\n",
      "5144.946316254203\n",
      "5144.946415637351\n",
      "5144.946713465722\n",
      "5144.947606974518\n",
      "5144.950292928067\n",
      "5144.958394498556\n",
      "5144.9829683765065\n",
      "5145.058173107895\n",
      "5145.291328862475\n",
      "5146.0249835423765\n",
      "5148.339526050252\n",
      "5155.237068181196\n",
      "5172.198616572665\n",
      "5204.351323490506\n",
      "5255.080375952469\n",
      "5314.671928628827\n",
      "5366.127834327513\n",
      "5403.376012409146\n",
      "5423.545917534071\n",
      "5430.589251600308\n",
      "5432.154206474946\n",
      "5432.475033504269\n",
      "5432.550845655656\n",
      "5432.570637916644\n",
      "5432.576046632574\n",
      "5432.577557715637\n",
      "5432.577985064614\n",
      "5432.578106822141\n",
      "5432.57814167695\n",
      "5432.578151685436\n",
      "5432.57815456518\n",
      "5432.578155394876\n",
      "5432.5781556341335\n",
      "5432.578155703166\n",
      "5432.578155723094\n",
      "5432.578155728847\n",
      "5432.578155730508\n",
      "5432.578155730987\n",
      "5432.5781557311275\n",
      "5432.5781557311675\n",
      "5432.578155731178\n",
      "5432.578155731182\n",
      "5432.578155731183\n",
      "5432.578155731183\n",
      "5432.578155731183\n",
      "5432.578155731183\n",
      "5432.578155731183\n",
      "5432.578155731183\n",
      "5432.578155731183\n",
      "5432.578155731183\n",
      "5432.578155731183\n",
      "5432.578155731183\n",
      "5432.578155731183\n",
      "5432.578155731183\n",
      "5432.578155731183\n",
      "5432.578155731183\n",
      "5432.578155731183\n",
      "5432.578155731183\n",
      "5432.578155731183\n",
      "5432.578155731183\n",
      "5432.578155731183\n",
      "5432.578155731183\n",
      "5432.578155731183\n",
      "5432.578155731183\n",
      "5432.578155731183\n",
      "5432.578155731183\n",
      "5432.578155731183\n",
      "5432.578155731183\n",
      "5432.578155731183\n",
      "5432.578155731183\n",
      "5432.578155731183\n",
      "5432.578155731183\n",
      "5432.578155731183\n",
      "5432.578155731183\n",
      "5432.578155731183\n",
      "5432.578155731183\n",
      "5432.578155731183\n",
      "5432.578155731183\n",
      "5432.578155731183\n",
      "5432.578155731183\n",
      "5432.578155731183\n",
      "5432.578155731183\n",
      "5432.578155731183\n",
      "5432.578155731183\n",
      "5432.578155731183\n",
      "5432.578155731183\n",
      "5432.578155731183\n",
      "5432.578155731183\n",
      "5432.578155731183\n",
      "5432.578155731183\n",
      "5432.578155731183\n",
      "5432.578155731183\n",
      "5432.578155731183\n",
      "5432.578155731183\n",
      "5432.578155731183\n",
      "5432.578155731183\n",
      "5432.578155731183\n",
      "5432.578155731183\n",
      "5432.578155731183\n",
      "5432.578155731183\n",
      "5432.578155731183\n",
      "5432.578155731183\n",
      "5432.578155731183\n",
      "5432.578155731183\n",
      "5432.578155731183\n",
      "5432.578155731183\n",
      "5432.578155731183\n",
      "5432.578155731183\n",
      "5432.578155731183\n",
      "5432.578155731183\n",
      "5432.578155731183\n",
      "5432.578155731183\n",
      "5432.578155731183\n",
      "5432.578155731183\n",
      "5432.578155731183\n",
      "5432.578155731183\n",
      "5432.578155731183\n",
      "5432.578155731183\n",
      "5432.578155731183\n",
      "5432.578155731183\n",
      "5432.578155731183\n",
      "5432.578155731183\n",
      "5432.578155731183\n",
      "5432.578155731183\n",
      "5432.578155731183\n",
      "5432.578155731183\n",
      "5432.578155731183\n",
      "5432.578155731183\n",
      "5432.578155731183\n",
      "5432.578155731183\n",
      "5432.578155731183\n",
      "5432.578155731183\n",
      "5432.578155731183\n",
      "5432.578155731183\n",
      "5432.578155731183\n",
      "5432.578155731183\n",
      "5432.578155731183\n",
      "5432.578155731183\n",
      "5432.578155731183\n",
      "5432.578155731183\n",
      "5432.578155731183\n",
      "5432.578155731183\n",
      "5432.578155731183\n",
      "5432.578155731183\n",
      "5432.578155731183\n",
      "5432.578155731183\n",
      "5432.578155731183\n",
      "5432.578155731183\n",
      "5432.578155731183\n",
      "5432.578155731183\n",
      "5432.578155731183\n",
      "5432.578155731183\n",
      "5432.578155731183\n",
      "5432.578155731183\n",
      "5432.578155731183\n",
      "5432.578155731183\n",
      "5432.578155731183\n",
      "5432.578155731183\n",
      "5432.578155731183\n",
      "5432.578155731183\n",
      "5432.578155731183\n",
      "5432.578155731183\n",
      "5432.578155731183\n",
      "5432.578155731183\n"
     ]
    }
   ],
   "source": [
    "for l in range(NUM_IT):\n",
    "    mu_x = X @ mew.T\n",
    "    mu_sq = 0.5 * (np.multiply(mew, mew) + np.multiply(sig, sig))\n",
    "    phi = np.exp(mu_x - mu_sq.T)\n",
    "    phi = phi/np.sum(phi, axis=1)[:, None]\n",
    "    \n",
    "    for j in range(k):\n",
    "        denom = 1/(s**2) + np.sum(phi[:, j])\n",
    "        mew[j] = (phi[:, j] @ X)/denom\n",
    "        sig[j] = 1/denom\n",
    "    print(elbo(mew, sig, phi, X))\n",
    "    \n",
    "\n",
    "        \n",
    "            "
   ]
  },
  {
   "cell_type": "code",
   "execution_count": 214,
   "metadata": {},
   "outputs": [
    {
     "data": {
      "text/plain": [
       "array([3, 3, 3, 3, 3, 2, 3, 3, 3, 3, 3, 3, 2, 3, 3, 3, 3, 3, 3, 3, 3, 3,\n",
       "       3, 3, 0, 0, 0, 0, 0, 0, 0, 3, 0, 0, 0, 0, 0, 0, 0, 0, 0, 0, 0, 0,\n",
       "       0, 0, 0, 0, 0, 0, 0, 0, 0, 0, 0, 0, 0, 0, 0, 0, 0, 0, 3, 0, 0, 0,\n",
       "       0, 0, 0, 0, 0, 0, 0, 0, 0, 0, 0, 0, 0, 0, 0, 0, 0, 0, 0, 0, 0, 0,\n",
       "       0, 0, 0, 0, 0, 0, 0, 0, 0, 0, 0, 0, 0, 0, 0, 0, 0, 0, 0, 0, 0, 0,\n",
       "       0, 0, 0, 0, 0, 0, 0, 0, 0, 0, 0, 0, 0, 0, 0, 0, 0, 0, 0, 0, 0, 0,\n",
       "       0, 0, 0, 3, 0, 0, 0, 0, 2, 2, 2, 2, 2, 2, 2, 2, 2, 2, 2, 2, 2, 2,\n",
       "       2, 2, 2, 2, 2, 2, 2, 2, 2, 2, 2, 2, 2, 2, 2, 2, 2, 2, 2, 2, 2, 2,\n",
       "       2, 2, 3, 3, 3, 3, 3, 3, 3, 3, 3, 3, 3, 3, 3, 2, 3, 3, 3, 3, 3, 3,\n",
       "       3, 3, 3, 3, 3, 3, 3, 3, 3, 3, 3, 3, 3, 0, 3, 3, 3, 3, 3, 3, 3, 3,\n",
       "       3, 3, 3, 3, 3, 3, 3, 3, 3, 3, 3, 0, 3, 3, 3, 3, 3, 3, 3, 3, 3, 3,\n",
       "       3, 3, 3, 3, 3, 3, 3, 3, 3, 3, 3, 3, 3, 3, 3, 3, 3, 3, 3, 3, 3, 3,\n",
       "       3, 3, 3, 3, 3, 3, 3, 3, 3, 3, 3, 3, 3, 3, 3, 3, 3, 3, 3, 3, 3, 3,\n",
       "       3, 3, 3, 3, 3, 3, 0, 3, 3, 3, 3, 3, 3, 3, 3, 3, 4, 4, 4, 4, 4, 4,\n",
       "       4, 4, 4, 4, 4, 4, 4, 4, 4, 4, 4, 4, 4, 4, 4, 4, 4, 4, 4, 4, 4, 4,\n",
       "       4, 4, 4, 4, 4, 4, 4, 4, 4, 4, 4, 4, 4, 4, 4, 4, 4, 4, 4, 4, 4, 4,\n",
       "       4, 4, 4, 4, 4, 4, 4, 4, 4, 4, 4, 4, 4, 4, 4, 4, 4, 4, 4, 4, 4, 4,\n",
       "       4, 4, 4, 4, 4, 4, 4, 4, 4, 4, 4, 4, 4, 4, 4, 4, 4, 4, 4, 4, 4, 4,\n",
       "       4, 4, 4, 4, 4, 4, 4, 4, 4, 4])"
      ]
     },
     "execution_count": 214,
     "metadata": {},
     "output_type": "execute_result"
    }
   ],
   "source": [
    "np.argmax(phi,axis=1)"
   ]
  },
  {
   "cell_type": "code",
   "execution_count": 217,
   "metadata": {},
   "outputs": [
    {
     "data": {
      "text/plain": [
       "[array([-5.12893808]),\n",
       " array([1.51935971]),\n",
       " array([1.51935971]),\n",
       " array([5.72600884]),\n",
       " array([10.24045335])]"
      ]
     },
     "execution_count": 217,
     "metadata": {},
     "output_type": "execute_result"
    }
   ],
   "source": [
    "sorted(mew)"
   ]
  },
  {
   "cell_type": "code",
   "execution_count": 218,
   "metadata": {},
   "outputs": [
    {
     "data": {
      "text/plain": [
       "[array([-5.168861]),\n",
       " array([1.52081297]),\n",
       " array([5.61142849]),\n",
       " array([6.82733444]),\n",
       " array([10.71809314])]"
      ]
     },
     "execution_count": 218,
     "metadata": {},
     "output_type": "execute_result"
    }
   ],
   "source": [
    "sorted(true_centers)"
   ]
  },
  {
   "cell_type": "code",
   "execution_count": null,
   "metadata": {},
   "outputs": [],
   "source": []
  }
 ],
 "metadata": {
  "kernelspec": {
   "display_name": "Python 3",
   "language": "python",
   "name": "python3"
  },
  "language_info": {
   "codemirror_mode": {
    "name": "ipython",
    "version": 3
   },
   "file_extension": ".py",
   "mimetype": "text/x-python",
   "name": "python",
   "nbconvert_exporter": "python",
   "pygments_lexer": "ipython3",
   "version": "3.8.3"
  }
 },
 "nbformat": 4,
 "nbformat_minor": 4
}
